{
 "cells": [
  {
   "cell_type": "code",
   "execution_count": 2,
   "metadata": {
    "_cell_guid": "78d5e257-349b-4af1-ad7f-b52ff3c62609",
    "_uuid": "76e55b926fc2309d95a0aca02a26650d29586825"
   },
   "outputs": [
    {
     "name": "stdout",
     "output_type": "stream",
     "text": [
      "(42000, 785)\n"
     ]
    }
   ],
   "source": [
    "import numpy as np\n",
    "import pandas as pd\n",
    "import datetime as dt\n",
    "img_rows, img_cols = 28, 28\n",
    "num_classes = 10\n",
    "train = pd.read_csv(\"data/train.csv\")\n",
    "print(train.shape)\n",
    "np.random.seed(seed=1984)\n",
    "# train.head()"
   ]
  },
  {
   "cell_type": "code",
   "execution_count": 3,
   "metadata": {
    "_cell_guid": "01ca33f0-65a9-48e3-b882-6fa14097214a",
    "_uuid": "13e070ee4bf78b2413c52379cd34d052ee580789"
   },
   "outputs": [
    {
     "name": "stdout",
     "output_type": "stream",
     "text": [
      "(28000, 784)\n"
     ]
    }
   ],
   "source": [
    "start = dt.datetime.now()\n",
    "test= pd.read_csv(\"data/test.csv\")\n",
    "print(test.shape)\n",
    "# test.head()"
   ]
  },
  {
   "cell_type": "code",
   "execution_count": 4,
   "metadata": {
    "_cell_guid": "3f44ff83-6f5b-410c-b885-22c964719962",
    "_uuid": "64f927b2c3bbb8a42621761f3052b2c9c74c6d4c"
   },
   "outputs": [
    {
     "name": "stdout",
     "output_type": "stream",
     "text": [
      "(33600, 784) (33600,)\n",
      "(8400, 784) (8400,)\n",
      "(28000, 784)\n"
     ]
    }
   ],
   "source": [
    "x = train[train.columns[1:]].values.astype('float32')\n",
    "x_test = test.values.astype('float32')\n",
    "y = train[\"label\"].values.astype('int32')\n",
    "\n",
    "from sklearn.model_selection import train_test_split\n",
    "x_train, x_valid, y_train, y_valid = train_test_split(x, y, test_size=0.2)\n",
    "\n",
    "print(x_train.shape, y_train.shape)\n",
    "print(x_valid.shape, y_valid.shape)\n",
    "print(x_test.shape)"
   ]
  },
  {
   "cell_type": "code",
   "execution_count": 6,
   "metadata": {
    "_cell_guid": "3823c12c-3de0-42a4-bc7c-09346a565435",
    "_uuid": "ae005eee13d22dd3d33e654e97920071cd4f8171"
   },
   "outputs": [
    {
     "name": "stderr",
     "output_type": "stream",
     "text": [
      "Using TensorFlow backend.\n"
     ]
    }
   ],
   "source": [
    "import keras\n",
    "from keras import backend as K\n",
    "\n",
    "if K.image_data_format() == 'channels_first':\n",
    "    x_train = x_train.reshape(x_train.shape[0], 1, img_rows, img_cols)\n",
    "    x_valid = x_valid.reshape(x_valid.shape[0], 1, img_rows, img_cols)\n",
    "    x_test = x_test.reshape(x_test.shape[0], 1, img_rows, img_cols)\n",
    "    input_shape = (1, img_rows, img_cols)\n",
    "else:\n",
    "    x_train = x_train.reshape(x_train.shape[0], img_rows, img_cols, 1)\n",
    "    x_valid = x_valid.reshape(x_valid.shape[0], img_rows, img_cols, 1)\n",
    "    x_test = x_test.reshape(x_test.shape[0], img_rows, img_cols, 1)\n",
    "    input_shape = (img_rows, img_cols, 1)\n",
    "\n",
    "max_p = x_train.max()\n",
    "x_train = x_train / max_p\n",
    "x_valid = x_valid / max_p\n",
    "x_test = x_test / max_p"
   ]
  },
  {
   "cell_type": "code",
   "execution_count": 7,
   "metadata": {
    "_cell_guid": "c89e57d3-917e-4400-b912-60681b2386f4",
    "_uuid": "810face738974ce6800f44ed370a63bb8f810799"
   },
   "outputs": [
    {
     "name": "stdout",
     "output_type": "stream",
     "text": [
      "(33600, 28, 28, 1) (33600, 10)\n",
      "(8400, 28, 28, 1) (8400, 10)\n",
      "(28000, 28, 28, 1)\n"
     ]
    }
   ],
   "source": [
    "# convert class vectors to binary class matrices\n",
    "y_train = keras.utils.to_categorical(y_train, num_classes)\n",
    "y_valid = keras.utils.to_categorical(y_valid, num_classes)\n",
    "print(x_train.shape, y_train.shape)\n",
    "print(x_valid.shape, y_valid.shape)\n",
    "print(x_test.shape)"
   ]
  },
  {
   "cell_type": "code",
   "execution_count": 8,
   "metadata": {
    "_cell_guid": "291a6c76-063f-4c09-9c67-dacbc663a667",
    "_uuid": "16b529cef7abbc02fbb00bd4025c1d21b672561b"
   },
   "outputs": [],
   "source": [
    "from keras.models import Sequential, load_model\n",
    "from keras.layers import Dense, Dropout, Flatten\n",
    "from keras.layers import Conv2D, MaxPooling2D, BatchNormalization\n",
    "from keras.optimizers import RMSprop\n",
    "from keras.preprocessing.image import ImageDataGenerator\n",
    "from keras.callbacks import ReduceLROnPlateau"
   ]
  },
  {
   "cell_type": "code",
   "execution_count": 9,
   "metadata": {
    "_cell_guid": "433e00ec-6a6b-420d-b4a9-cc6f7272ce87",
    "_uuid": "b80ab5d9f7032b4a6c4a63158c9e0094218d58f8"
   },
   "outputs": [
    {
     "name": "stdout",
     "output_type": "stream",
     "text": [
      "_________________________________________________________________\n",
      "Layer (type)                 Output Shape              Param #   \n",
      "=================================================================\n",
      "conv2d_1 (Conv2D)            (None, 28, 28, 32)        320       \n",
      "_________________________________________________________________\n",
      "conv2d_2 (Conv2D)            (None, 28, 28, 32)        9248      \n",
      "_________________________________________________________________\n",
      "max_pooling2d_1 (MaxPooling2 (None, 14, 14, 32)        0         \n",
      "_________________________________________________________________\n",
      "dropout_1 (Dropout)          (None, 14, 14, 32)        0         \n",
      "_________________________________________________________________\n",
      "conv2d_3 (Conv2D)            (None, 14, 14, 64)        18496     \n",
      "_________________________________________________________________\n",
      "conv2d_4 (Conv2D)            (None, 14, 14, 64)        36928     \n",
      "_________________________________________________________________\n",
      "max_pooling2d_2 (MaxPooling2 (None, 7, 7, 64)          0         \n",
      "_________________________________________________________________\n",
      "dropout_2 (Dropout)          (None, 7, 7, 64)          0         \n",
      "_________________________________________________________________\n",
      "flatten_1 (Flatten)          (None, 3136)              0         \n",
      "_________________________________________________________________\n",
      "dense_1 (Dense)              (None, 100)               313700    \n",
      "_________________________________________________________________\n",
      "batch_normalization_1 (Batch (None, 100)               400       \n",
      "_________________________________________________________________\n",
      "dropout_3 (Dropout)          (None, 100)               0         \n",
      "_________________________________________________________________\n",
      "dense_2 (Dense)              (None, 10)                1010      \n",
      "=================================================================\n",
      "Total params: 380,102\n",
      "Trainable params: 379,902\n",
      "Non-trainable params: 200\n",
      "_________________________________________________________________\n"
     ]
    }
   ],
   "source": [
    "model = Sequential()\n",
    "model.add(Conv2D(32, (3, 3), activation='relu', padding='same',input_shape=input_shape))\n",
    "model.add(Conv2D(32, (3, 3), activation='relu', padding='same'))\n",
    "model.add(MaxPooling2D(pool_size=(2, 2)))\n",
    "model.add(Dropout(0.2))\n",
    "model.add(Conv2D(64, (3, 3), activation='relu', padding='same'))\n",
    "model.add(Conv2D(64, (3, 3), activation='relu', padding='same'))\n",
    "model.add(MaxPooling2D(pool_size=(2, 2)))\n",
    "model.add(Dropout(0.2))\n",
    "model.add(Flatten())\n",
    "model.add(Dense(100, activation='relu'))\n",
    "model.add(BatchNormalization())\n",
    "model.add(Dropout(0.2))\n",
    "model.add(Dense(num_classes, activation='softmax'))\n",
    "model.summary()"
   ]
  },
  {
   "cell_type": "code",
   "execution_count": 10,
   "metadata": {
    "_cell_guid": "ea06a118-f171-4cab-8c11-b565a622a11b",
    "_uuid": "f9d3ca24678ca64d9ef1636c0ebb705380a03ed6"
   },
   "outputs": [],
   "source": [
    "model.compile(optimizer=RMSprop(lr=0.001),\n",
    "    loss='categorical_crossentropy',\n",
    "    metrics=['accuracy'])"
   ]
  },
  {
   "cell_type": "code",
   "execution_count": 11,
   "metadata": {
    "_cell_guid": "fd857c95-6412-4824-9156-55ea3cbee87d",
    "_uuid": "e19dfc9029736550a40bc9f22534e4be79dd52bd"
   },
   "outputs": [],
   "source": [
    "datagen = ImageDataGenerator(\n",
    "        featurewise_center=False,  # set input mean to 0 over the dataset\n",
    "        samplewise_center=False,  # set each sample mean to 0\n",
    "        featurewise_std_normalization=False,  # divide inputs by std of the dataset\n",
    "        samplewise_std_normalization=False,  # divide each input by its std\n",
    "        zca_whitening=False,  # apply ZCA whitening\n",
    "        rotation_range=10,  # randomly rotate images in the range (degrees, 0 to 180)\n",
    "        zoom_range = 0.0, # Randomly zoom image \n",
    "        width_shift_range=0.1,  # randomly shift images horizontally (fraction of total width)\n",
    "        height_shift_range=0.1,  # randomly shift images vertically (fraction of total height)\n",
    "        horizontal_flip=False,  # randomly flip images\n",
    "        vertical_flip=False)  # randomly flip images\n",
    "\n",
    "datagen.fit(x_train)"
   ]
  },
  {
   "cell_type": "code",
   "execution_count": 14,
   "metadata": {},
   "outputs": [
    {
     "data": {
      "text/plain": [
       "[name: \"/cpu:0\"\n",
       " device_type: \"CPU\"\n",
       " memory_limit: 268435456\n",
       " locality {\n",
       " }\n",
       " incarnation: 9027190194798484939, name: \"/gpu:0\"\n",
       " device_type: \"GPU\"\n",
       " memory_limit: 118882304\n",
       " locality {\n",
       "   bus_id: 1\n",
       " }\n",
       " incarnation: 15540717609627922478\n",
       " physical_device_desc: \"device: 0, name: GeForce GTX 1060 6GB, pci bus id: 0000:09:00.0\"]"
      ]
     },
     "execution_count": 14,
     "metadata": {},
     "output_type": "execute_result"
    }
   ],
   "source": [
    "from tensorflow.python.client import device_lib\n",
    "\n",
    "device_lib.list_local_devices()"
   ]
  },
  {
   "cell_type": "code",
   "execution_count": 23,
   "metadata": {
    "_cell_guid": "9cf9a663-24e6-48f2-88f2-57d11d5648c8",
    "_uuid": "37433df58ea09de150854a33185cd7cce076d468"
   },
   "outputs": [],
   "source": [
    "batch_size = 64\n",
    "epochs = 50\n",
    "lr_reduce = ReduceLROnPlateau(monitor='val_acc', factor=0.1, epsilon=0.0001, patience=1, verbose=1)"
   ]
  },
  {
   "cell_type": "markdown",
   "metadata": {},
   "source": [
    "### Load model, if any"
   ]
  },
  {
   "cell_type": "code",
   "execution_count": 24,
   "metadata": {},
   "outputs": [],
   "source": [
    "model = load_model('mnistmodel.h5')"
   ]
  },
  {
   "cell_type": "code",
   "execution_count": 25,
   "metadata": {
    "_cell_guid": "9cf9a663-24e6-48f2-88f2-57d11d5648c8",
    "_uuid": "37433df58ea09de150854a33185cd7cce076d468"
   },
   "outputs": [
    {
     "name": "stdout",
     "output_type": "stream",
     "text": [
      "Epoch 1/50\n",
      "6s - loss: 0.0298 - acc: 0.9907 - val_loss: 0.0163 - val_acc: 0.9950\n",
      "Epoch 2/50\n",
      "6s - loss: 0.0308 - acc: 0.9909 - val_loss: 0.0162 - val_acc: 0.9951\n",
      "Epoch 3/50\n",
      "6s - loss: 0.0324 - acc: 0.9903 - val_loss: 0.0162 - val_acc: 0.9950\n",
      "Epoch 4/50\n",
      "6s - loss: 0.0326 - acc: 0.9901 - val_loss: 0.0162 - val_acc: 0.9950\n",
      "Epoch 5/50\n",
      "7s - loss: 0.0295 - acc: 0.9911 - val_loss: 0.0162 - val_acc: 0.9951\n",
      "Epoch 6/50\n",
      "6s - loss: 0.0309 - acc: 0.9904 - val_loss: 0.0163 - val_acc: 0.9951\n",
      "Epoch 7/50\n",
      "6s - loss: 0.0299 - acc: 0.9904 - val_loss: 0.0162 - val_acc: 0.9950\n",
      "Epoch 8/50\n",
      "6s - loss: 0.0311 - acc: 0.9902 - val_loss: 0.0163 - val_acc: 0.9951\n",
      "Epoch 9/50\n",
      "6s - loss: 0.0297 - acc: 0.9909 - val_loss: 0.0162 - val_acc: 0.9951\n",
      "Epoch 10/50\n",
      "7s - loss: 0.0296 - acc: 0.9907 - val_loss: 0.0162 - val_acc: 0.9950\n",
      "Epoch 11/50\n",
      "6s - loss: 0.0317 - acc: 0.9904 - val_loss: 0.0162 - val_acc: 0.9951\n",
      "Epoch 12/50\n",
      "6s - loss: 0.0289 - acc: 0.9909 - val_loss: 0.0161 - val_acc: 0.9951\n",
      "Epoch 13/50\n",
      "6s - loss: 0.0308 - acc: 0.9906 - val_loss: 0.0163 - val_acc: 0.9950\n",
      "Epoch 14/50\n",
      "6s - loss: 0.0308 - acc: 0.9902 - val_loss: 0.0162 - val_acc: 0.9950\n",
      "Epoch 15/50\n",
      "7s - loss: 0.0309 - acc: 0.9906 - val_loss: 0.0163 - val_acc: 0.9950\n",
      "Epoch 16/50\n",
      "7s - loss: 0.0313 - acc: 0.9904 - val_loss: 0.0162 - val_acc: 0.9951\n",
      "Epoch 17/50\n",
      "6s - loss: 0.0285 - acc: 0.9912 - val_loss: 0.0162 - val_acc: 0.9951\n",
      "Epoch 18/50\n",
      "7s - loss: 0.0286 - acc: 0.9912 - val_loss: 0.0162 - val_acc: 0.9951\n",
      "Epoch 19/50\n",
      "6s - loss: 0.0305 - acc: 0.9908 - val_loss: 0.0163 - val_acc: 0.9951\n",
      "Epoch 20/50\n",
      "6s - loss: 0.0324 - acc: 0.9906 - val_loss: 0.0163 - val_acc: 0.9951\n",
      "Epoch 21/50\n",
      "6s - loss: 0.0313 - acc: 0.9901 - val_loss: 0.0163 - val_acc: 0.9950\n",
      "Epoch 22/50\n",
      "7s - loss: 0.0317 - acc: 0.9902 - val_loss: 0.0163 - val_acc: 0.9951\n",
      "Epoch 23/50\n",
      "7s - loss: 0.0309 - acc: 0.9902 - val_loss: 0.0163 - val_acc: 0.9951\n",
      "Epoch 24/50\n",
      "7s - loss: 0.0335 - acc: 0.9901 - val_loss: 0.0162 - val_acc: 0.9950\n",
      "Epoch 25/50\n",
      "6s - loss: 0.0329 - acc: 0.9898 - val_loss: 0.0162 - val_acc: 0.9950\n",
      "Epoch 26/50\n",
      "6s - loss: 0.0314 - acc: 0.9907 - val_loss: 0.0163 - val_acc: 0.9951\n",
      "Epoch 27/50\n",
      "7s - loss: 0.0316 - acc: 0.9900 - val_loss: 0.0163 - val_acc: 0.9951\n",
      "Epoch 28/50\n",
      "6s - loss: 0.0323 - acc: 0.9904 - val_loss: 0.0162 - val_acc: 0.9950\n",
      "Epoch 29/50\n",
      "6s - loss: 0.0307 - acc: 0.9902 - val_loss: 0.0163 - val_acc: 0.9950\n",
      "Epoch 30/50\n",
      "6s - loss: 0.0299 - acc: 0.9907 - val_loss: 0.0163 - val_acc: 0.9950\n",
      "Epoch 31/50\n",
      "7s - loss: 0.0305 - acc: 0.9907 - val_loss: 0.0162 - val_acc: 0.9951\n",
      "Epoch 32/50\n",
      "6s - loss: 0.0319 - acc: 0.9904 - val_loss: 0.0162 - val_acc: 0.9951\n",
      "Epoch 33/50\n",
      "6s - loss: 0.0310 - acc: 0.9902 - val_loss: 0.0162 - val_acc: 0.9951\n",
      "Epoch 34/50\n",
      "6s - loss: 0.0327 - acc: 0.9905 - val_loss: 0.0163 - val_acc: 0.9951\n",
      "Epoch 35/50\n",
      "6s - loss: 0.0312 - acc: 0.9909 - val_loss: 0.0162 - val_acc: 0.9950\n",
      "Epoch 36/50\n",
      "6s - loss: 0.0315 - acc: 0.9897 - val_loss: 0.0163 - val_acc: 0.9950\n",
      "Epoch 37/50\n",
      "7s - loss: 0.0295 - acc: 0.9906 - val_loss: 0.0163 - val_acc: 0.9951\n",
      "Epoch 38/50\n",
      "6s - loss: 0.0306 - acc: 0.9905 - val_loss: 0.0163 - val_acc: 0.9951\n",
      "Epoch 39/50\n",
      "6s - loss: 0.0292 - acc: 0.9907 - val_loss: 0.0162 - val_acc: 0.9950\n",
      "Epoch 40/50\n",
      "7s - loss: 0.0306 - acc: 0.9904 - val_loss: 0.0163 - val_acc: 0.9951\n",
      "Epoch 41/50\n",
      "6s - loss: 0.0321 - acc: 0.9902 - val_loss: 0.0163 - val_acc: 0.9950\n",
      "Epoch 42/50\n",
      "7s - loss: 0.0311 - acc: 0.9897 - val_loss: 0.0163 - val_acc: 0.9951\n",
      "Epoch 43/50\n",
      "7s - loss: 0.0318 - acc: 0.9903 - val_loss: 0.0163 - val_acc: 0.9951\n",
      "Epoch 44/50\n",
      "6s - loss: 0.0307 - acc: 0.9907 - val_loss: 0.0163 - val_acc: 0.9951\n",
      "Epoch 45/50\n",
      "6s - loss: 0.0335 - acc: 0.9897 - val_loss: 0.0163 - val_acc: 0.9950\n",
      "Epoch 46/50\n",
      "6s - loss: 0.0320 - acc: 0.9904 - val_loss: 0.0162 - val_acc: 0.9951\n",
      "Epoch 47/50\n",
      "6s - loss: 0.0322 - acc: 0.9899 - val_loss: 0.0163 - val_acc: 0.9950\n",
      "Epoch 48/50\n",
      "6s - loss: 0.0306 - acc: 0.9910 - val_loss: 0.0163 - val_acc: 0.9950\n",
      "Epoch 49/50\n",
      "7s - loss: 0.0304 - acc: 0.9907 - val_loss: 0.0162 - val_acc: 0.9950\n",
      "Epoch 50/50\n",
      "6s - loss: 0.0286 - acc: 0.9912 - val_loss: 0.0163 - val_acc: 0.9950\n"
     ]
    },
    {
     "data": {
      "text/plain": [
       "<keras.callbacks.History at 0x7f74f419e128>"
      ]
     },
     "execution_count": 25,
     "metadata": {},
     "output_type": "execute_result"
    }
   ],
   "source": [
    "model.fit_generator(datagen.flow(x_train, y_train, batch_size=batch_size),\n",
    "                    steps_per_epoch=x_train.shape[0] // batch_size,\n",
    "                    callbacks=[lr_reduce],\n",
    "                    validation_data=(x_valid, y_valid),\n",
    "                    epochs = epochs, verbose = 2)"
   ]
  },
  {
   "cell_type": "markdown",
   "metadata": {},
   "source": [
    "### Save the model"
   ]
  },
  {
   "cell_type": "code",
   "execution_count": 26,
   "metadata": {},
   "outputs": [],
   "source": [
    "model.save('mnistmodel.h5')"
   ]
  },
  {
   "cell_type": "code",
   "execution_count": 27,
   "metadata": {
    "_cell_guid": "6bc78317-eb70-4cfa-a001-89fa68ab283d",
    "_uuid": "4a2bd2c4420337fd5e6d9e5ca5ad9740c4caa9f1"
   },
   "outputs": [
    {
     "name": "stdout",
     "output_type": "stream",
     "text": [
      "valid loss: 0.0162966389345\n",
      "valid accuracy: 0.995\n"
     ]
    }
   ],
   "source": [
    "score = model.evaluate(x_valid, y_valid, verbose=0)\n",
    "print('valid loss:', score[0])\n",
    "print('valid accuracy:', score[1])"
   ]
  },
  {
   "cell_type": "code",
   "execution_count": 28,
   "metadata": {
    "_cell_guid": "51615640-8c2d-401b-8922-8df9245ad8ca",
    "_uuid": "f831c71c7219e872a95711c39ab0e861ef68762b"
   },
   "outputs": [],
   "source": [
    "# Predict the values from the validation dataset\n",
    "y_pred = model.predict(x_test)"
   ]
  },
  {
   "cell_type": "code",
   "execution_count": 29,
   "metadata": {
    "_cell_guid": "bae2b928-6ab7-4e10-af5c-0e48e2e56906",
    "_uuid": "325a2cc704c60d8019e53d20d563820750a15b19"
   },
   "outputs": [],
   "source": [
    "y_pred_classes = np.argmax(y_pred,axis = 1)\n",
    "ids = range(1,len(y_pred_classes)+1)\n",
    "submission = pd.DataFrame(np.column_stack((ids,y_pred_classes)),columns=(\"ImageId\",\"Label\"))\n",
    "submission.to_csv(\"submission.csv\", index=None)"
   ]
  },
  {
   "cell_type": "code",
   "execution_count": null,
   "metadata": {},
   "outputs": [],
   "source": []
  }
 ],
 "metadata": {
  "kernelspec": {
   "display_name": "Python 3",
   "language": "python",
   "name": "python3"
  },
  "language_info": {
   "codemirror_mode": {
    "name": "ipython",
    "version": 3
   },
   "file_extension": ".py",
   "mimetype": "text/x-python",
   "name": "python",
   "nbconvert_exporter": "python",
   "pygments_lexer": "ipython3",
   "version": "3.6.4"
  }
 },
 "nbformat": 4,
 "nbformat_minor": 1
}
