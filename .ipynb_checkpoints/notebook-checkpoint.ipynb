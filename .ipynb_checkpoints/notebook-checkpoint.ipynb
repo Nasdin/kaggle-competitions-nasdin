{
 "cells": [
  {
   "cell_type": "markdown",
   "metadata": {
    "_cell_guid": "19347051-c624-44ea-bcea-342c08324a9f",
    "_uuid": "8e8c5c968fa27be800f006d27f190ec42cd6e340"
   },
   "source": [
    "## Introduction\n",
    "\n",
    "We will show how to use the  [Hungarian method](https://en.wikipedia.org/wiki/Hungarian_algorithm) to improve an existing solution. Let's forget the twins for a moment and look at the vast majority (99.6%) of the rest. Each kid should receive one gift so it is clearly an assigment problem and the objective function is linear.\n",
    "It is not even an NP hard problem we could use polinomial algorithms to solve it.\n",
    "\n",
    "The only problem is that we have 10^6 points so an O(n^3) algorithm might not be feasible. Scipy.optimize has [linear_sum_assignment](https://docs.scipy.org/doc/scipy-0.18.1/reference/generated/scipy.optimize.linear_sum_assignment.html) let's use that on small random subsets of the large input space.\n",
    "\n",
    "We will use [Vlad Golubev](https://www.kaggle.com/golubev)'s [submission](https://www.kaggle.com/golubev/c-submission) as the baseline submission to improve. You could start with a better solution with [Selfish Gene](https://www.kaggle.com/selfishgene)'s nice [heuristics](https://www.kaggle.com/selfishgene/nothing-fancy-just-some-heuristics-0-9372)."
   ]
  },
  {
   "cell_type": "code",
   "execution_count": 1,
   "metadata": {
    "_cell_guid": "b36c12d3-70ba-46ec-8ac1-740d6987f620",
    "_uuid": "7f6721f999383590667c0393c916cb1a09b1c8cd"
   },
   "outputs": [],
   "source": [
    "import os\n",
    "import pandas as pd\n",
    "import numpy as np\n",
    "from scipy.optimize import linear_sum_assignment\n",
    "import datetime as dt\n",
    "from collections import defaultdict, Counter\n",
    "from tqdm import tqdm\n",
    "import matplotlib.pyplot as plt\n",
    "import datetime as dt\n",
    "plt.rcParams['figure.figsize'] = [16, 10]\n",
    "plt.rcParams['font.size'] = 16\n",
    "import seaborn as sns"
   ]
  },
  {
   "cell_type": "code",
   "execution_count": 2,
   "metadata": {
    "_cell_guid": "a38d042c-c0fd-4c22-b487-e0af6edd0e38",
    "_uuid": "e81ac82d1ec9e5e209b387a6dc508e30001ac6d7"
   },
   "outputs": [],
   "source": [
    "N_CHILDREN = 1000000\n",
    "N_GIFT_TYPE = 1000\n",
    "N_GIFT_QUANTITY = 1000\n",
    "N_GIFT_PREF = 1000\n",
    "N_CHILD_PREF = 10\n",
    "TWINS = int(0.004 * N_CHILDREN)\n",
    "\n",
    "CHILD_PREF = pd.read_csv('data/child_wishlist_v2.csv', header=None).drop(0, 1).values\n",
    "GIFT_PREF = pd.read_csv('data/gift_goodkids_v2.csv', header=None).drop(0, 1).values"
   ]
  },
  {
   "cell_type": "code",
   "execution_count": null,
   "metadata": {
    "_cell_guid": "c938a1e0-8109-4970-8881-26e6990eac6d",
    "_uuid": "6d2a5dffe9015a1e3eac155002f896969e925eb2"
   },
   "outputs": [],
   "source": [
    "GIFT_HAPPINESS = {}\n",
    "for g in range(N_GIFT_TYPE):\n",
    "    GIFT_HAPPINESS[g] = defaultdict(lambda: 1. / (2 * N_GIFT_PREF))\n",
    "    for i, c in enumerate(GIFT_PREF[g]):\n",
    "        GIFT_HAPPINESS[g][c] = -1. * (N_GIFT_PREF - i) / N_GIFT_PREF\n",
    "\n",
    "CHILD_HAPPINESS = {}\n",
    "for c in range(N_CHILDREN):\n",
    "    CHILD_HAPPINESS[c] = defaultdict(lambda: 1. / (2 * N_CHILD_PREF))\n",
    "    for i, g in enumerate(CHILD_PREF[c]):\n",
    "        CHILD_HAPPINESS[c][g] = -1. * (N_CHILD_PREF - i) / N_CHILD_PREF\n",
    "\n",
    "GIFT_IDS = np.array([[g] * N_GIFT_QUANTITY for g in range(N_GIFT_TYPE)]).flatten()"
   ]
  },
  {
   "cell_type": "code",
   "execution_count": null,
   "metadata": {
    "_cell_guid": "eb31df2e-59b7-4cda-ad33-680e25d49a61",
    "_uuid": "0877783f422855b51b58028e4e9b9a7adbd4598f",
    "collapsed": true
   },
   "outputs": [],
   "source": [
    "def my_avg_normalized_happiness(pred):\n",
    "    total_child_happiness = 0\n",
    "    total_gift_happiness = np.zeros(1000)\n",
    "    for c, g in pred:\n",
    "        total_child_happiness +=  -CHILD_HAPPINESS[c][g]\n",
    "        total_gift_happiness[g] += -GIFT_HAPPINESS[g][c]\n",
    "    nch = total_child_happiness / N_CHILDREN\n",
    "    ngh = np.mean(total_gift_happiness) / 1000\n",
    "    print('normalized child happiness', nch)\n",
    "    print('normalized gift happiness', ngh)\n",
    "    return nch + ngh"
   ]
  },
  {
   "cell_type": "code",
   "execution_count": null,
   "metadata": {
    "_cell_guid": "cba240c2-86ca-4ca0-98de-37ec4ed277b9",
    "_uuid": "8a77915e9ae653640a6e7f5bf3c3b5030adc2c6a",
    "collapsed": true
   },
   "outputs": [],
   "source": [
    "def optimize_block(child_block, current_gift_ids):\n",
    "    gift_block = current_gift_ids[child_block]\n",
    "    C = np.zeros((BLOCK_SIZE, BLOCK_SIZE))\n",
    "    for i in range(BLOCK_SIZE):\n",
    "        c = child_block[i]\n",
    "        for j in range(BLOCK_SIZE):\n",
    "            g = GIFT_IDS[gift_block[j]]\n",
    "            C[i, j] = CHILD_HAPPINESS[c][g] + GIFT_HAPPINESS[g][c]\n",
    "    row_ind, col_ind = linear_sum_assignment(C)\n",
    "    return (child_block[row_ind], gift_block[col_ind])"
   ]
  },
  {
   "cell_type": "code",
   "execution_count": null,
   "metadata": {
    "_cell_guid": "fe066276-12aa-4c6f-869b-9b1c4ab343ec",
    "_uuid": "2a067d057cee2e28480235f2fb73ad7c0723ab88",
    "collapsed": true
   },
   "outputs": [],
   "source": [
    "BLOCK_SIZE = 400\n",
    "INITIAL_SUBMISSION = 'nas.csv'\n",
    "N_BLOCKS = (N_CHILDREN - TWINS) / BLOCK_SIZE\n",
    "print('Block size: {}, n_blocks {}'.format(BLOCK_SIZE, N_BLOCKS))"
   ]
  },
  {
   "cell_type": "code",
   "execution_count": null,
   "metadata": {
    "_cell_guid": "e30b4ea7-1328-4e4c-be87-0105ff3c946e",
    "_uuid": "b0e90886edff21706a58bc4cf80c7b40b7121419",
    "collapsed": true
   },
   "outputs": [],
   "source": [
    "subm = pd.read_csv(INITIAL_SUBMISSION)\n",
    "initial_anh = my_avg_normalized_happiness(subm[['ChildId', 'GiftId']].values.tolist())\n",
    "print(initial_anh)\n",
    "subm['gift_rank'] = subm.groupby('GiftId').rank() - 1\n",
    "subm['gift_id'] = subm['GiftId'] * 1000 + subm['gift_rank']\n",
    "subm['gift_id'] = subm['gift_id'].astype(np.int64)\n",
    "current_gift_ids = subm['gift_id'].values"
   ]
  },
  {
   "cell_type": "markdown",
   "metadata": {
    "_cell_guid": "8d055d0a-8357-4a2b-a194-1363a424468d",
    "_uuid": "863890c59a5da4f5b4f617b223d491cb6d4ff989"
   },
   "source": [
    "## Single iteration"
   ]
  },
  {
   "cell_type": "code",
   "execution_count": null,
   "metadata": {
    "_cell_guid": "6cb65b91-38d0-4707-88f3-69bec530e6c3",
    "_uuid": "ec9d5902d34e3f1931cc006e83c7ae23f57ee6dd",
    "collapsed": true
   },
   "outputs": [],
   "source": [
    "start_time = dt.datetime.now()\n",
    "for i in range(1):\n",
    "    child_blocks = np.split(np.random.permutation(range(TWINS, N_CHILDREN)), N_BLOCKS)\n",
    "    for child_block in tqdm(child_blocks[:500]):\n",
    "        cids, gids = optimize_block(child_block, current_gift_ids=current_gift_ids)\n",
    "        current_gift_ids[cids] = gids\n",
    "    subm['GiftId'] = GIFT_IDS[current_gift_ids]\n",
    "    anh = my_avg_normalized_happiness(subm[['ChildId', 'GiftId']].values.tolist())\n",
    "    end_time = dt.datetime.now()\n",
    "    print(i, anh, (end_time-start_time).total_seconds())\n",
    "subm[['ChildId', 'GiftId']].to_csv('./submission_%i.csv' % int(anh * 10 ** 6), index=False)"
   ]
  },
  {
   "cell_type": "code",
   "execution_count": null,
   "metadata": {
    "_cell_guid": "f99373c1-8055-4827-9bcd-1b2fec7d54d5",
    "_uuid": "34406c80424c16a203edbd975af73da109e81393",
    "collapsed": true
   },
   "outputs": [],
   "source": [
    "print('Improvement {}'.format(anh - initial_anh))"
   ]
  },
  {
   "cell_type": "code",
   "execution_count": null,
   "metadata": {
    "_cell_guid": "ce71c38c-2582-4388-85f3-0149c6dd18a2",
    "_uuid": "4c348d6297e7611c0b59cb30c7febeb7d25ca877",
    "collapsed": true
   },
   "outputs": [],
   "source": [
    "'{:.1f} hours required to reach the top.'.format(((0.94253901 - 0.93421513) / (0.93421513 - initial_anh)) * 8)"
   ]
  },
  {
   "cell_type": "markdown",
   "metadata": {
    "_cell_guid": "fb582d7e-e64e-4a26-a28e-109e570b6147",
    "_uuid": "ccda949a873e352d525c7a14d4fef705afcbdc98"
   },
   "source": [
    "My current best submission used this method. It improved 0.0005 in 8 hours :) With the same speed I would  reach the top in a week :) Of course the improvement won't be linear and the top teams could improve as well..."
   ]
  },
  {
   "cell_type": "markdown",
   "metadata": {
    "_cell_guid": "4d97baef-cbf6-431e-997a-c9206becce4a",
    "_uuid": "f28093bcf20f8a18a8dd2d340b60d603536dc63c"
   },
   "source": [
    "## Happiness distribution"
   ]
  },
  {
   "cell_type": "code",
   "execution_count": null,
   "metadata": {
    "_cell_guid": "387f9a58-3170-4a50-91ec-487044677635",
    "_uuid": "a5dfaadfcd94a5276903fadd4c4302e5b5ee280c",
    "collapsed": true
   },
   "outputs": [],
   "source": [
    "child_happiness = np.zeros(N_CHILDREN)\n",
    "gift_happiness = np.zeros(N_CHILDREN)\n",
    "for (c, g) in subm[['ChildId', 'GiftId']].values.tolist():\n",
    "    child_happiness[c] += -CHILD_HAPPINESS[c][g]\n",
    "    gift_happiness[c] += -GIFT_HAPPINESS[g][c]"
   ]
  },
  {
   "cell_type": "code",
   "execution_count": null,
   "metadata": {
    "_cell_guid": "58466b85-cde3-4ff1-83d5-b95e75f5491b",
    "_uuid": "0f8d2ebdddd1aa98763e1a3acacbf21b989b664c",
    "collapsed": true
   },
   "outputs": [],
   "source": [
    "plt.hist(gift_happiness, bins=20, color='r', normed=True, alpha=0.5, label='Santa happiness')\n",
    "plt.hist(child_happiness, bins=20, color='g', normed=True, alpha=0.5, label='Child happiness')\n",
    "plt.legend(loc=0)\n",
    "plt.grid()\n",
    "plt.xlabel('Happiness')\n",
    "plt.title('The children will be happier than Santa!')\n",
    "plt.show();"
   ]
  },
  {
   "cell_type": "markdown",
   "metadata": {
    "_cell_guid": "58c41209-7aa9-474b-9f5e-585676e83edd",
    "_uuid": "018aca17f1aa8b730882363928e2d9232181ae58"
   },
   "source": [
    "## Time complexity"
   ]
  },
  {
   "cell_type": "code",
   "execution_count": null,
   "metadata": {
    "_cell_guid": "4e13bd30-1576-49b7-8448-2b1fccde1bfd",
    "_uuid": "0340dca7953a9e5b961b413b59719d0108425d65",
    "collapsed": true
   },
   "outputs": [],
   "source": [
    "result = []\n",
    "for n in np.arange(100, 1600, 100):\n",
    "    C = np.random.random((n, n))\n",
    "    st = dt.datetime.now()\n",
    "    linear_sum_assignment(C)\n",
    "    et = dt.datetime.now()\n",
    "    result.append([n, (et - st).total_seconds()])"
   ]
  },
  {
   "cell_type": "code",
   "execution_count": null,
   "metadata": {
    "_cell_guid": "60f52a87-2cc1-4db1-8e11-380a98276f03",
    "_uuid": "36491de037d3118c632334e871236d9240c73aca",
    "collapsed": true
   },
   "outputs": [],
   "source": [
    "result = np.array(result)\n",
    "poly_estimate = np.polyfit(result[:, 0], result[:, 1], 3)"
   ]
  },
  {
   "cell_type": "code",
   "execution_count": null,
   "metadata": {
    "_cell_guid": "9131db9d-4b35-48d6-8fc8-314c140d9b5b",
    "_uuid": "60f0848d9a6efe404fe9b6d6bf44d5fcbab766a0",
    "collapsed": true
   },
   "outputs": [],
   "source": [
    "plt.scatter(result[:, 0], result[:, 1], c='y', s=500, marker='*', label='Run time')\n",
    "plt.plot(result[:, 0], np.poly1d(poly_estimate)(result[:, 0]), c='g', lw=3, label='Polynomial Estimate')\n",
    "plt.xlabel('Number of vertices')\n",
    "plt.ylabel('Run time (s)')\n",
    "plt.grid()\n",
    "plt.title('Hungarian method - O(n^3) time complexity')\n",
    "plt.legend(loc=0)\n",
    "plt.show()"
   ]
  }
 ],
 "metadata": {
  "kernelspec": {
   "display_name": "Python 3",
   "language": "python",
   "name": "python3"
  },
  "language_info": {
   "codemirror_mode": {
    "name": "ipython",
    "version": 3
   },
   "file_extension": ".py",
   "mimetype": "text/x-python",
   "name": "python",
   "nbconvert_exporter": "python",
   "pygments_lexer": "ipython3",
   "version": "3.6.4"
  }
 },
 "nbformat": 4,
 "nbformat_minor": 1
}
